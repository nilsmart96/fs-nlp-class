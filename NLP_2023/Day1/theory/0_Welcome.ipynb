{
 "cells": [
  {
   "cell_type": "markdown",
   "metadata": {},
   "source": [
    "# Welcome to your second class - NLP Natural Language Processing\n",
    "\n",
    "## Goals\n",
    "\n",
    "This module is focused on applying **machine learning techniques** to **gain language understanding**. **Natural language processing** is one of the main sub-fields of machine learning and has **driven major algorithmic break-throughs** in recent years. Language is a form of time series so breakthroughs in natural language processing such as Transformers have been closely connected to advances in machine learning in general. \n",
    "\n",
    "The module is thus taking a **twofold approach**. On the one hand we will introduce **general machine learning techniques** that can deal with **categorical time series** and show how they can be **effectively applied to give computers language** understanding. On the other hand, we will combine these techniques with **domain specific applications** such as **word embedding, semantic distance and dependency tree parsing**. \n",
    "\n",
    "The module focuses on:\n",
    "\n",
    " - Main concepts and intuition of how language can be processed and language understanding be gained through machine learning\n",
    " - Central topics in NLP \n",
    "         - Syntax\n",
    "         - Semantics\n",
    "         - Combining elements of syntax and semantics to build problem specific pipelines\n",
    "         - Large language models that do end to end learning\n",
    " - Will take a historical view, moving from what used to be state of the art to current state of the art\n",
    " - Note that past techniques are not just relevant for historical reasons but feature in most practical engineering problems in some form or another\n",
    " - Intuition based -> not too formal\n",
    " - Practical focus -> implement every day!\n",
    "\n",
    "\n",
    "## Limits\n",
    "- Basic introduction, tip of the ice-berg\n",
    "- Try to focus on getting across the most important concepts rather than the full breadth of the material\n",
    "- Intense, short time frame\n",
    " \n",
    "## After this class you should be able to..\n",
    "- **Understand** the latest **machine learning techniques** to gain **language understanding** through computational techniques.\n",
    "- **Translate** the knowledge gained on NLP algorithms to **novel language processing problems**.\n",
    "- Apply natural language processing techniques to **business problems** e.g. to **better understand the sentiment of customers, their needs and how they may be persuaded**.\n",
    "- **Analyze** the **most advanced machine learning techniques such as Transformers** in a domain specific context, in our case **natural language processing**.\n",
    "- Evaluate which **pipeline, model and architecture** are **most appropriate for a problem**, based on accuracy and convergence metrics of the optimization\n"
   ]
  },
  {
   "cell_type": "markdown",
   "metadata": {},
   "source": [
    "# General structure\n",
    "\n",
    "## Topics of the days\n",
    "\n",
    "- see __[link HERE](https://docs.google.com/spreadsheets/d/12nDosZZgg_uz3d4h6oxSYz87r60LwSMDb_d1i-msCGA/edit?usp=sharing)__    \n",
    "\n",
    "\n",
    "## What will a day look like?\n",
    "(1) Theory\n",
    "<br>\n",
    "(2) Coding/implementation\n",
    "<br>\n",
    "(3) Exercises/assessment\n",
    "\n",
    "\n",
    "\n",
    "# Access to training material\n",
    "\n",
    "## What is Google Colaboratory?\n",
    "- Jupyter notebooks for Google\n",
    "- One GPU for up to 12 hours\n",
    "\n",
    "## Where to find the shared material?\n",
    "\n",
    "\n",
    "see __[link HERE](https://drive.google.com/drive/folders/16Ih-UTV2Qo5ixrindSUOxZxChFOGsnIM?usp=share_link)__\n",
    "\n",
    "**Please don't forget to \"Make a copy to my drive!!!\" - since if you don't, all your modifications will be temporary, you will loose your work!**"
   ]
  },
  {
   "cell_type": "markdown",
   "metadata": {},
   "source": [
    "# Measurement of performance\n",
    "\n",
    "Total number of marks:\n",
    "\n",
    "| Asessment                 | Points          | Timing                                               |\n",
    "|---------------------------|-----------------|------------------------------------------------------|\n",
    "| Continuous assignments    | 40              | Throughout the course (2 weeks after respective class)|\n",
    "| Final assignment               | 40              | 21st of December                |\n",
    "| Multiple choce exam       | 40              | 40 minutes 5 Minutes initial reading time            |\n",
    "\n",
    "\n",
    "\n",
    "\n",
    "## Class assignments (and their submission)\n",
    "- For each block there is at least one assignment (continuous assessment)\n",
    "- The continuous assessments have to be uploaded in canvas (a pdf of the relevant Jupyter Notebook AND the notebook itself), no later than end of day (Frankfurt time) 14 days after the respective class  \n",
    "- Make sure the PDF does not have the text cut off on the sides or in the cells\n",
    "- You pass the assignment, when you have passed the basic assertions, which you can see as part of most assignments\n",
    "\n",
    "- Do not worry too much about the continuous assessment. We are there to help you, and we will spend time on the assignments during the class. \n",
    "- Start early with the continuous assignments, i.e. when we have covered the respective material in class\n",
    "- You can help each other out with the continuous assessment, e.g. help a colleague to debug their code, but *you must not directly copy and paste code from others*. Such behaviour is plagiarism and will be awarded 0 marks\n",
    "\n",
    "\n",
    "## Final assignment (Individual submission)\n",
    "- see __[link HERE](https://drive.google.com/file/d/1zO1BwK5MkXqGkdVpO5G3XCUhxbSblzd9/view?usp=sharing)__"
   ]
  },
  {
   "cell_type": "code",
   "execution_count": null,
   "metadata": {
    "collapsed": true
   },
   "outputs": [],
   "source": []
  }
 ],
 "metadata": {
  "kernelspec": {
   "display_name": "Python 3 (ipykernel)",
   "language": "python",
   "name": "python3"
  },
  "language_info": {
   "codemirror_mode": {
    "name": "ipython",
    "version": 3
   },
   "file_extension": ".py",
   "mimetype": "text/x-python",
   "name": "python",
   "nbconvert_exporter": "python",
   "pygments_lexer": "ipython3",
   "version": "3.10.9"
  },
  "toc": {
   "base_numbering": 1,
   "nav_menu": {},
   "number_sections": true,
   "sideBar": true,
   "skip_h1_title": false,
   "title_cell": "Table of Contents",
   "title_sidebar": "Contents",
   "toc_cell": false,
   "toc_position": {},
   "toc_section_display": true,
   "toc_window_display": false
  },
  "varInspector": {
   "cols": {
    "lenName": 16,
    "lenType": 16,
    "lenVar": 40
   },
   "kernels_config": {
    "python": {
     "delete_cmd_postfix": "",
     "delete_cmd_prefix": "del ",
     "library": "var_list.py",
     "varRefreshCmd": "print(var_dic_list())"
    },
    "r": {
     "delete_cmd_postfix": ") ",
     "delete_cmd_prefix": "rm(",
     "library": "var_list.r",
     "varRefreshCmd": "cat(var_dic_list()) "
    }
   },
   "types_to_exclude": [
    "module",
    "function",
    "builtin_function_or_method",
    "instance",
    "_Feature"
   ],
   "window_display": false
  }
 },
 "nbformat": 4,
 "nbformat_minor": 2
}
