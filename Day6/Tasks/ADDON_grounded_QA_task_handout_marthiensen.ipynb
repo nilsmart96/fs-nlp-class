{
 "cells": [
  {
   "cell_type": "markdown",
   "id": "0f3f25ed",
   "metadata": {},
   "source": [
    "# Task 1: Implement a simple Q&A in Langchain\n",
    "\n",
    "- register to OpenAI API (use the \"start for free\" credits defined [here](https://openai.com/pricing)\n",
    "- use [langchain](https://python.langchain.com/en/latest/)\n",
    "- use the standard OpenAI model to ask the question and oserve the answer:\n",
    "\n",
    "`When was the vilnius TV tower donated by France?`\n"
   ]
  },
  {
   "cell_type": "code",
   "execution_count": 1,
   "id": "34fb7ae3",
   "metadata": {},
   "outputs": [],
   "source": [
    "# install the packages\n",
    "!pip install langchain"
   ]
  },
  {
   "cell_type": "code",
   "execution_count": 2,
   "id": "7a74b709",
   "metadata": {},
   "outputs": [],
   "source": [
    "#get OpenAI key from user input\n",
    "from getpass import getpass\n",
    "\n",
    "OPENAI_API_KEY = getpass()"
   ]
  },
  {
   "cell_type": "code",
   "execution_count": 3,
   "id": "659a49f1",
   "metadata": {},
   "outputs": [],
   "source": [
    "#put the OpenAI key to the OS context\n",
    "from langchain.llms import OpenAI\n",
    "\n",
    "import os\n",
    "\n",
    "os.environ[\"OPENAI_API_KEY\"] = OPENAI_API_KEY"
   ]
  },
  {
   "cell_type": "code",
   "execution_count": 4,
   "id": "262697c0",
   "metadata": {},
   "outputs": [],
   "source": [
    "#Initialize a LangChain language model connector object\n",
    "llm = OpenAI()"
   ]
  },
  {
   "cell_type": "code",
   "execution_count": 5,
   "id": "d2d1244f",
   "metadata": {},
   "outputs": [],
   "source": [
    "from langchain import PromptTemplate, LLMChain\n",
    "\n",
    "#create the text of the prompt template\n",
    "#pay attention to the \"keys\", or \"variables\" that LangChain will interpolate into the prompt text!\n",
    "template = \"\"\"You are a historian the answers the following question: {question}\n",
    "\n",
    "Think of the precise circumstances of the event.\"\"\"\n",
    "\n",
    "#create a PromptTemplate object  from the template text\n",
    "prompt = PromptTemplate(template=template, input_variables=[\"question\"])\n",
    "\n",
    "#create an llm chain with the LLM and the prompt objects\n",
    "llm_chain = LLMChain(llm=llm, prompt=prompt)"
   ]
  },
  {
   "cell_type": "code",
   "execution_count": 6,
   "id": "90b8555d",
   "metadata": {},
   "outputs": [
    {
     "name": "stdout",
     "output_type": "stream",
     "text": [
      "\n",
      "\n",
      "The Vilnius TV Tower was donated by France on October 13, 1980. The donation ceremony was attended by the then-President of the French Republic Valéry Giscard d’Estaing and the then-First Secretary of the Central Committee of the Lithuanian Communist Party, Antanas Barkauskas. During the ceremony, Giscard d'Estaing handed a symbolic key to the tower over to Barkauskas.\n"
     ]
    }
   ],
   "source": [
    "#ask the question from the chain\n",
    "question = \"When was the vilnius TV tower donated by France? \"\n",
    "\n",
    "#print the result\n",
    "print(llm_chain.run(question))"
   ]
  },
  {
   "cell_type": "markdown",
   "id": "a5f1a390",
   "metadata": {},
   "source": [
    "# Task 2:\n",
    "\n",
    "- Install the [wikipedia package](https://pypi.org/project/wikipedia/)\n",
    "- get the page contents describing the Vilnius TV tower\n",
    "- implement a \"gounded\" question answering solution, where the OpenAI chat gets additional context with the question, and an appropriate prompt that forces it to refuse to hallucinate information beyond the given context\n",
    "- use the Wikipedia page content as context\n",
    "- pose the same question and observe the answer"
   ]
  },
  {
   "cell_type": "code",
   "execution_count": 7,
   "id": "5ea176b8",
   "metadata": {},
   "outputs": [],
   "source": [
    "#install and import Wikipedia\n",
    "!pip install wikipedia > /dev/null\n",
    "import wikipedia"
   ]
  },
  {
   "cell_type": "code",
   "execution_count": 8,
   "id": "dba2a519",
   "metadata": {},
   "outputs": [],
   "source": [
    "#download the page content from Wikipadia as context\n",
    "page_title = \"Vilnius TV Tower\"\n",
    "page = wikipedia.page(page_title)\n",
    "context = page.content"
   ]
  },
  {
   "cell_type": "code",
   "execution_count": 9,
   "id": "fcdbcfb1",
   "metadata": {},
   "outputs": [
    {
     "data": {
      "text/plain": [
       "'The Vilnius TV Tower (Lithuanian: Vilniaus televizijos bokštas) is a 326.5 m (1,071 ft) high tower in the Karoliniškės microdistrict of Vilnius, Lithuania.  It is the tallest structure in Lithuania, and it belongs to the SC Lithuanian Radio and Television Centre (Lithuanian: AB Lietuvos radijo ir televizijos centras).\\n\\n\\n== Design and construction ==\\n\\nThe tower was designed by V. Obydov and the engineering section by K. Balėnas. The construction of the tower started on 31 May 1974 and finished on December 30, 1980. The construction was funded by the 11th Five Year Plan of the Soviet Union, which had earmarked funds for strategic investment in the then Lithuanian SSR. The weight of the whole structure is estimated at 25,000 to 30,000 metric tons (55,000,000–66,000,000 lb). The structure is composed of a concrete base, a 190 m (623 ft) long hollow reinforced concrete pipe, a reinforced concrete saucer, and a 136 m (446 ft) long steel spike.  Radio transmitters are housed in the lower part of the concrete tower with antennas attached to the steel spike.\\nThe observation deck 165 m (541 ft) from the ground houses the cafe \"Paukščių takas\" (English: Milky Way), offers a picturesque view of the city and its surroundings, and sports a rotating platform that revolves once every 45 minutes.  High-speed elevators reach the cafe from ground level in 40 seconds. On clear days, visibility can extend as far as Elektrėnai, a city approximately 40 km (25 mi) west, where power plants produced much of the electricity for Vilnius in Soviet times.\\n\\n\\n== Museum ==\\nThe TV tower played a major role in the events of 13 January 1991, when 14 unarmed civilians lost their lives and 700 were injured opposing the Soviet military seizure of the tower. A small museum dedicated to the January 1991 battle is housed on the ground floor, and various markers in the surrounding area indicate places where Lithuanian citizens died while trying to maintain the blockade against Soviet troops.\\n\\n\\n== Decoration ==\\nSince 2000, the tower has been decorated to look like a Christmas tree each Christmas season. During the 2006 World Basketball Championship it was decorated with a large basketball net. Vilnius TV Tower became the biggest basketball hoop in the world during the 2011 FIBA European Basketball Championship. The hoop was 35 metres in diameter with a 40  metre-high net, assembled at a height of 170 metres. The lighting of the giant hoop took 2,560 metres of lighting cable and 545 bulbs.\\nBungee jumps are available to the public from the roof of the observation deck.\\nSince 2019 tower decorations had changed. LED lighting was installed and the tower has been glowing bright blue color in the dark. During national celebrations, the tower changes its color according lithuanian flag colors - yellow, green and red, dimming into each other and glowing for 2 minutes in one color.\\n\\n\\n== References ==\\n\\n\\n== External links ==\\nThe Vilnius TV tower official website\\nSC Lithuanian Radio and Television Centre official website\\nVilnius Television Tower at Structurae'"
      ]
     },
     "execution_count": 9,
     "metadata": {},
     "output_type": "execute_result"
    }
   ],
   "source": [
    "context"
   ]
  },
  {
   "cell_type": "code",
   "execution_count": 10,
   "id": "8126c9d5",
   "metadata": {},
   "outputs": [],
   "source": [
    "#from langchain import PromptTemplate, LLMChain\n",
    "\n",
    "#create the text of the prompt template\n",
    "#pay attention to the \"keys\", or \"variables\" that LangChain will interpolate into the prompt text!\n",
    "template = \"\"\"Question: {question}\n",
    "\n",
    "Context: {context}\n",
    "\n",
    "Your task is to determine if the question makes sense based on the provided context. \n",
    "If the question makes sense, answer it.\n",
    "If the question does not make sense, provide the real circumstances.\n",
    "DO NOT hallucinate anything beyond the context provided.\"\"\"\n",
    "\n",
    "#create a PromptTemplate object  from the template text\n",
    "prompt = PromptTemplate(template=template, input_variables=[\"context\", \"question\"])\n",
    "\n",
    "#create an llm chain with the LLM and the prompt objects\n",
    "llm_chain = LLMChain(llm=llm, prompt=prompt)"
   ]
  },
  {
   "cell_type": "code",
   "execution_count": 11,
   "id": "64ca94af",
   "metadata": {},
   "outputs": [
    {
     "name": "stdout",
     "output_type": "stream",
     "text": [
      "\n",
      "\n",
      "The question does not make sense based on the provided context. The Vilnius TV Tower was funded by the Soviet Union and was completed in 1980. There is no mention of France donating the tower in the provided context.\n"
     ]
    }
   ],
   "source": [
    "#ask the question from the chain\n",
    "question = \"When was the vilnius TV tower donated by France? \"\n",
    "\n",
    "#print the result\n",
    "print(llm_chain.run({\"context\":context,\"question\":question}))"
   ]
  }
 ],
 "metadata": {
  "kernelspec": {
   "display_name": "Python 3 (ipykernel)",
   "language": "python",
   "name": "python3"
  },
  "language_info": {
   "codemirror_mode": {
    "name": "ipython",
    "version": 3
   },
   "file_extension": ".py",
   "mimetype": "text/x-python",
   "name": "python",
   "nbconvert_exporter": "python",
   "pygments_lexer": "ipython3",
   "version": "3.11.5"
  }
 },
 "nbformat": 4,
 "nbformat_minor": 5
}
